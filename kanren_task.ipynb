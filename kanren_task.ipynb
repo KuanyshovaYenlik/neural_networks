{
 "cells": [
  {
   "cell_type": "code",
   "execution_count": 11,
   "metadata": {},
   "outputs": [
    {
     "name": "stdout",
     "output_type": "stream",
     "text": [
      "Requirement already satisfied: kanren in c:\\users\\user\\anaconda3\\lib\\site-packages (0.2.3)\n",
      "Requirement already satisfied: toolz in c:\\users\\user\\anaconda3\\lib\\site-packages (from kanren) (0.10.0)\n",
      "Requirement already satisfied: unification in c:\\users\\user\\anaconda3\\lib\\site-packages (from kanren) (0.2.2)\n",
      "Requirement already satisfied: multipledispatch in c:\\users\\user\\anaconda3\\lib\\site-packages (from kanren) (0.6.0)\n",
      "Requirement already satisfied: six in c:\\users\\user\\anaconda3\\lib\\site-packages (from multipledispatch->kanren) (1.12.0)\n"
     ]
    }
   ],
   "source": [
    "!pip install kanren"
   ]
  },
  {
   "cell_type": "code",
   "execution_count": 12,
   "metadata": {},
   "outputs": [],
   "source": [
    "from kanren import *\n",
    "from kanren.core import lall"
   ]
  },
  {
   "cell_type": "code",
   "execution_count": 13,
   "metadata": {},
   "outputs": [],
   "source": [
    "def left(q, p, list):\n",
    "    return membero((q,p), zip(list, list[1:]))\n",
    "\n",
    "def next(q, p, list):\n",
    "    return conde([left(q, p, list)], [left(p, q, list)])"
   ]
  },
  {
   "cell_type": "code",
   "execution_count": 14,
   "metadata": {},
   "outputs": [],
   "source": [
    "houses = var()"
   ]
  },
  {
   "cell_type": "code",
   "execution_count": 15,
   "metadata": {},
   "outputs": [
    {
     "ename": "SyntaxError",
     "evalue": "invalid syntax (<ipython-input-15-0ace720af7f4>, line 1)",
     "output_type": "error",
     "traceback": [
      "\u001b[1;36m  File \u001b[1;32m\"<ipython-input-15-0ace720af7f4>\"\u001b[1;36m, line \u001b[1;32m1\u001b[0m\n\u001b[1;33m    Каждому кораблю — в свой порт\u001b[0m\n\u001b[1;37m                  ^\u001b[0m\n\u001b[1;31mSyntaxError\u001b[0m\u001b[1;31m:\u001b[0m invalid syntax\n"
     ]
    }
   ],
   "source": [
    "Каждому кораблю — в свой порт\n",
    "В порте пять кораблей.\n",
    "1. Греческий корабль отчаливает в шесть. Он везет кофе.\n",
    "2. У корабля, который в середине — черная труба.\n",
    "3. Английский корабль отплывает в девять.\n",
    "4. Французский корабль, у которого синяя труба, пришвартован слева от корабля, который везет кофе.\n",
    "5. Справа от корабля, на котором груз какао, корабль, который плывет в Марсель.\n",
    "6. Корабль под бразильским флагом направляется на Манилы.\n",
    "7. Рядом с кораблем, на котором рис, — корабль с зеленой трубой.\n",
    "8. Корабль, плывущий в Геную, отходит в пять.\n",
    "9. Испанский корабль отплывает в семь и находится справа от корабля, плывущего в Марсель.\n",
    "10. Корабль с красной трубой направляется в Гамбург.\n",
    "11. Рядом с кораблем, который отчаливает в семь, корабль с белой трубой.\n",
    "12. На крайнем корабле — зерно.\n",
    "13. Корабль с черной трубой отплывает в восемь.\n",
    "14. Корабль с зерном пришвартован рядом с кораблем, на котором груз риса.\n",
    "15. Корабль, следующий до Гамбурга, отчаливает в 6.\n",
    "Вопрос:\n",
    "Который корабль плывет в Порт-Саид? Который гружен чаем?"
   ]
  },
  {
   "cell_type": "code",
   "execution_count": 17,
   "metadata": {},
   "outputs": [],
   "source": [
    "rules_ship = lall(\n",
    "    (eq, (var(), var(), var(), var(), var()), houses),\n",
    "    (membero,('Греческий', var(), var(), 'кофе', 'в шесть'), houses),\n",
    "    (eq,(var(), var(), (var(), var(), 'черная труба', var(), var()), var(), var()), houses),\n",
    "    (membero,('Английский', var(), var(), var(), 'в девять'), houses),\n",
    "    (left,(var(), var(), var(), 'кофе', var()),('Французкий', var(), 'синяя труба', var(), var()), houses),\n",
    "    (left,(var(), 'в Марсель', var(), var(), var()), (var(), var(), var(), 'какао', var()), houses),\n",
    "    (membero,('Бразильский', 'на Манилы', var(), var(), var()), houses),\n",
    "    (next,(var(), var(), var(), 'рис', var()), (var(), var(), 'зеленая труба', var(), var()), houses),\n",
    "    (membero,(var(),'в Гению', var(), var(), 'в пять'), houses),\n",
    "    (left,('Испанский', var(), var(), var(), 'в семь'), (var(), 'в Марсель', var(), var(), var()), houses),\n",
    "    (membero,(var(), 'в Гамбург', 'красная труба', var(), var()), houses),\n",
    "    (next,(var(), var(), var(), var(), 'в семь'), (var(), var(), 'белая труба', var(), var()), houses),\n",
    "    (eq,((var(), var(), var(), 'зерно', var()), var(), var(), var(), var()), houses),\n",
    "    (membero,(var(), var(), 'черная труба', var(), 'в восемь'), houses),\n",
    "    (next,(var(), var(), var(), 'зерно', var()), (var(), var(), var(), 'рис', var()), houses),\n",
    "    (membero,(var(),'в Гамбург', var(), var(), 'в шесть'), houses),\n",
    "    (membero,(var(),'в Порт-Саид', var(), var(), var()), houses),    \n",
    "    (membero,(var(), var(), var(),'чай', var()), houses)\n",
    ")"
   ]
  },
  {
   "cell_type": "code",
   "execution_count": 18,
   "metadata": {},
   "outputs": [],
   "source": [
    "solutions = run(0, houses, rules_ship)"
   ]
  },
  {
   "cell_type": "code",
   "execution_count": 19,
   "metadata": {},
   "outputs": [
    {
     "data": {
      "text/plain": [
       "((('Испанский', 'в Порт-Саид', 'зеленая труба', 'зерно', 'в семь'),\n",
       "  ('Английский', 'в Марсель', 'белая труба', 'рис', 'в девять'),\n",
       "  ('Бразильский', 'на Манилы', 'черная труба', 'какао', 'в восемь'),\n",
       "  ('Греческий', 'в Гамбург', 'красная труба', 'кофе', 'в шесть'),\n",
       "  ('Французкий', 'в Гению', 'синяя труба', 'чай', 'в пять')),)"
      ]
     },
     "execution_count": 19,
     "metadata": {},
     "output_type": "execute_result"
    }
   ],
   "source": [
    "solutions"
   ]
  },
  {
   "cell_type": "code",
   "execution_count": null,
   "metadata": {},
   "outputs": [],
   "source": []
  }
 ],
 "metadata": {
  "kernelspec": {
   "display_name": "Python 3",
   "language": "python",
   "name": "python3"
  },
  "language_info": {
   "codemirror_mode": {
    "name": "ipython",
    "version": 3
   },
   "file_extension": ".py",
   "mimetype": "text/x-python",
   "name": "python",
   "nbconvert_exporter": "python",
   "pygments_lexer": "ipython3",
   "version": "3.7.4"
  }
 },
 "nbformat": 4,
 "nbformat_minor": 4
}
